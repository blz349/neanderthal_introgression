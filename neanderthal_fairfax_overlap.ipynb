{
 "cells": [
  {
   "cell_type": "markdown",
   "metadata": {},
   "source": [
    "# Explore overlap between Neanderthal-introgressed SNPs and Fairfax eQTLs\n",
    "This code explores if any Neanderthal-introgressed SNPs are present in the list of monocyte extreme response peak eQTLs identified by Fairfax et al. Fisher's exact test and bootstrap test were performed to detect enrichment.\n",
    "\n",
    "Neanderthal SNPs from:\n",
    "1. Dannemann M, Prufer K & Kelso J. Functional implications of Neandertal introgression in modern humans. Genome Biol 2017 18:61.\n",
    "2. Simonti CN *et al*. The phenotypic legacy of admixture between modern humans and Neandertals. Science 2016 351:737-41.\n",
    "\n",
    "Monocyte extreme response peak eQTLs from:\n",
    "1. Fairfax BP *et al*. Innate immune activity conditions the effect of regulatory variants upon monocyte gene expression. Science 2014 343:1246949."
   ]
  },
  {
   "cell_type": "code",
   "execution_count": 1,
   "metadata": {},
   "outputs": [],
   "source": [
    "# Import libraries\n",
    "import pandas as pd\n",
    "import scipy.stats as stats\n",
    "from random import sample\n",
    "import matplotlib.pyplot as plt\n",
    "import seaborn as sns\n",
    "sns.set()\n",
    "%matplotlib inline"
   ]
  },
  {
   "cell_type": "markdown",
   "metadata": {},
   "source": [
    "### Create dataframe containing SNPs in both Neanderthal and Fairfax datasets"
   ]
  },
  {
   "cell_type": "code",
   "execution_count": 2,
   "metadata": {},
   "outputs": [],
   "source": [
    "# Load comparison_df containing Neanderthal SNPs\n",
    "comparison_df = pd.read_csv(\"../neanderthal/comparison_df.csv\")\n",
    "comparison_df = comparison_df.drop(columns='Unnamed: 0')\n",
    "comparison_df['Source'] = comparison_df['Source'].astype('string')"
   ]
  },
  {
   "cell_type": "code",
   "execution_count": 3,
   "metadata": {},
   "outputs": [],
   "source": [
    "# Load eQTL data\n",
    "extr_resp = pd.read_csv(\"tab2_a_cis_eSNPs.txt\", sep=\"\\t\", usecols=[\"SNP\", \"Gene\", \"SNP.Chrm\", \"SNP.pos\", \"Min.dataset\"])\n",
    "extr_resp = extr_resp.rename(columns={\"SNP.Chrm\": \"Chromosome\", \"SNP.pos\": \"Position\", \"SNP\": \"ID\"})\n",
    "extr_resp = extr_resp.groupby([\"Chromosome\", \"Position\", \"ID\"]).agg(','.join).reset_index()"
   ]
  },
  {
   "cell_type": "code",
   "execution_count": 4,
   "metadata": {},
   "outputs": [
    {
     "data": {
      "text/html": [
       "<div>\n",
       "<style scoped>\n",
       "    .dataframe tbody tr th:only-of-type {\n",
       "        vertical-align: middle;\n",
       "    }\n",
       "\n",
       "    .dataframe tbody tr th {\n",
       "        vertical-align: top;\n",
       "    }\n",
       "\n",
       "    .dataframe thead th {\n",
       "        text-align: right;\n",
       "    }\n",
       "</style>\n",
       "<table border=\"1\" class=\"dataframe\">\n",
       "  <thead>\n",
       "    <tr style=\"text-align: right;\">\n",
       "      <th></th>\n",
       "      <th>Chromosome</th>\n",
       "      <th>Position</th>\n",
       "      <th>Source</th>\n",
       "      <th>ID</th>\n",
       "      <th>Gene</th>\n",
       "      <th>Min.dataset</th>\n",
       "    </tr>\n",
       "  </thead>\n",
       "  <tbody>\n",
       "    <tr>\n",
       "      <th>1416</th>\n",
       "      <td>1</td>\n",
       "      <td>21636746</td>\n",
       "      <td>both</td>\n",
       "      <td>rs12756690</td>\n",
       "      <td>ECE1</td>\n",
       "      <td>LPS2</td>\n",
       "    </tr>\n",
       "    <tr>\n",
       "      <th>2197</th>\n",
       "      <td>1</td>\n",
       "      <td>40145850</td>\n",
       "      <td>both</td>\n",
       "      <td>rs17560858</td>\n",
       "      <td>LOC728448</td>\n",
       "      <td>IFN</td>\n",
       "    </tr>\n",
       "    <tr>\n",
       "      <th>2357</th>\n",
       "      <td>1</td>\n",
       "      <td>41488722</td>\n",
       "      <td>both</td>\n",
       "      <td>rs11209368</td>\n",
       "      <td>CTPS</td>\n",
       "      <td>IFN</td>\n",
       "    </tr>\n",
       "    <tr>\n",
       "      <th>2397</th>\n",
       "      <td>1</td>\n",
       "      <td>41702942</td>\n",
       "      <td>both</td>\n",
       "      <td>rs10493094</td>\n",
       "      <td>CTPS</td>\n",
       "      <td>IFN</td>\n",
       "    </tr>\n",
       "    <tr>\n",
       "      <th>10651</th>\n",
       "      <td>1</td>\n",
       "      <td>223003498</td>\n",
       "      <td>both</td>\n",
       "      <td>rs17475774</td>\n",
       "      <td>DISP1</td>\n",
       "      <td>LPS24</td>\n",
       "    </tr>\n",
       "  </tbody>\n",
       "</table>\n",
       "</div>"
      ],
      "text/plain": [
       "       Chromosome   Position Source          ID       Gene Min.dataset\n",
       "1416            1   21636746   both  rs12756690       ECE1        LPS2\n",
       "2197            1   40145850   both  rs17560858  LOC728448         IFN\n",
       "2357            1   41488722   both  rs11209368       CTPS         IFN\n",
       "2397            1   41702942   both  rs10493094       CTPS         IFN\n",
       "10651           1  223003498   both  rs17475774      DISP1       LPS24"
      ]
     },
     "execution_count": 4,
     "metadata": {},
     "output_type": "execute_result"
    }
   ],
   "source": [
    "# Merge dataframes\n",
    "extr_resp_df = comparison_df.merge(extr_resp, how='left', on=['Chromosome', 'Position'])\n",
    "extr_resp_df = extr_resp_df.dropna()\n",
    "extr_resp_df.head()"
   ]
  },
  {
   "cell_type": "code",
   "execution_count": 5,
   "metadata": {},
   "outputs": [
    {
     "data": {
      "text/plain": [
       "111"
      ]
     },
     "execution_count": 5,
     "metadata": {},
     "output_type": "execute_result"
    }
   ],
   "source": [
    "# Number of overlapping SNPs\n",
    "len(extr_resp_df)"
   ]
  },
  {
   "cell_type": "code",
   "execution_count": 6,
   "metadata": {},
   "outputs": [
    {
     "data": {
      "text/plain": [
       "IFN      43\n",
       "LPS24    35\n",
       "LPS2     29\n",
       "Naive    28\n",
       "dtype: int64"
      ]
     },
     "execution_count": 6,
     "metadata": {},
     "output_type": "execute_result"
    }
   ],
   "source": [
    "# Expression context\n",
    "extr_resp_df['Min.dataset'].str.split(',', expand=True).stack().value_counts()"
   ]
  },
  {
   "cell_type": "code",
   "execution_count": 7,
   "metadata": {},
   "outputs": [
    {
     "data": {
      "text/plain": [
       "OAS1      3\n",
       "NFATC1    3\n",
       "KTELC1    2\n",
       "UPF2      2\n",
       "MMP7      2\n",
       "         ..\n",
       "CTHRC1    1\n",
       "SPCS3     1\n",
       "SV2A      1\n",
       "ZNF143    1\n",
       "RHOG      1\n",
       "Length: 117, dtype: int64"
      ]
     },
     "execution_count": 7,
     "metadata": {},
     "output_type": "execute_result"
    }
   ],
   "source": [
    "# Genes associated with overlapped eQTLs\n",
    "extr_resp_df['Gene'].str.split(',', expand=True).stack().value_counts()"
   ]
  },
  {
   "cell_type": "code",
   "execution_count": 8,
   "metadata": {},
   "outputs": [
    {
     "data": {
      "text/html": [
       "<div>\n",
       "<style scoped>\n",
       "    .dataframe tbody tr th:only-of-type {\n",
       "        vertical-align: middle;\n",
       "    }\n",
       "\n",
       "    .dataframe tbody tr th {\n",
       "        vertical-align: top;\n",
       "    }\n",
       "\n",
       "    .dataframe thead th {\n",
       "        text-align: right;\n",
       "    }\n",
       "</style>\n",
       "<table border=\"1\" class=\"dataframe\">\n",
       "  <thead>\n",
       "    <tr style=\"text-align: right;\">\n",
       "      <th></th>\n",
       "      <th>ESN</th>\n",
       "      <th>YRI</th>\n",
       "      <th>MSL</th>\n",
       "      <th>GWD</th>\n",
       "      <th>LWK</th>\n",
       "    </tr>\n",
       "  </thead>\n",
       "  <tbody>\n",
       "    <tr>\n",
       "      <th>count</th>\n",
       "      <td>111.000000</td>\n",
       "      <td>111.000000</td>\n",
       "      <td>111.000000</td>\n",
       "      <td>111.000000</td>\n",
       "      <td>111.000000</td>\n",
       "    </tr>\n",
       "    <tr>\n",
       "      <th>mean</th>\n",
       "      <td>0.110279</td>\n",
       "      <td>0.109063</td>\n",
       "      <td>0.108811</td>\n",
       "      <td>0.111955</td>\n",
       "      <td>0.111955</td>\n",
       "    </tr>\n",
       "    <tr>\n",
       "      <th>std</th>\n",
       "      <td>0.310981</td>\n",
       "      <td>0.311626</td>\n",
       "      <td>0.307752</td>\n",
       "      <td>0.309040</td>\n",
       "      <td>0.309277</td>\n",
       "    </tr>\n",
       "    <tr>\n",
       "      <th>min</th>\n",
       "      <td>0.000000</td>\n",
       "      <td>0.000000</td>\n",
       "      <td>0.000000</td>\n",
       "      <td>0.000000</td>\n",
       "      <td>0.000000</td>\n",
       "    </tr>\n",
       "    <tr>\n",
       "      <th>25%</th>\n",
       "      <td>0.000000</td>\n",
       "      <td>0.000000</td>\n",
       "      <td>0.000000</td>\n",
       "      <td>0.000000</td>\n",
       "      <td>0.000000</td>\n",
       "    </tr>\n",
       "    <tr>\n",
       "      <th>50%</th>\n",
       "      <td>0.000000</td>\n",
       "      <td>0.000000</td>\n",
       "      <td>0.000000</td>\n",
       "      <td>0.000000</td>\n",
       "      <td>0.000000</td>\n",
       "    </tr>\n",
       "    <tr>\n",
       "      <th>75%</th>\n",
       "      <td>0.002500</td>\n",
       "      <td>0.000000</td>\n",
       "      <td>0.000000</td>\n",
       "      <td>0.009000</td>\n",
       "      <td>0.010000</td>\n",
       "    </tr>\n",
       "    <tr>\n",
       "      <th>max</th>\n",
       "      <td>1.000000</td>\n",
       "      <td>1.000000</td>\n",
       "      <td>1.000000</td>\n",
       "      <td>1.000000</td>\n",
       "      <td>1.000000</td>\n",
       "    </tr>\n",
       "  </tbody>\n",
       "</table>\n",
       "</div>"
      ],
      "text/plain": [
       "              ESN         YRI         MSL         GWD         LWK\n",
       "count  111.000000  111.000000  111.000000  111.000000  111.000000\n",
       "mean     0.110279    0.109063    0.108811    0.111955    0.111955\n",
       "std      0.310981    0.311626    0.307752    0.309040    0.309277\n",
       "min      0.000000    0.000000    0.000000    0.000000    0.000000\n",
       "25%      0.000000    0.000000    0.000000    0.000000    0.000000\n",
       "50%      0.000000    0.000000    0.000000    0.000000    0.000000\n",
       "75%      0.002500    0.000000    0.000000    0.009000    0.010000\n",
       "max      1.000000    1.000000    1.000000    1.000000    1.000000"
      ]
     },
     "execution_count": 8,
     "metadata": {},
     "output_type": "execute_result"
    }
   ],
   "source": [
    "# African population MAFs\n",
    "allpop_df = pd.read_csv(\"../neanderthal/allpop_df.csv\")\n",
    "allpop_df = allpop_df.drop(columns=['Unnamed: 0', 'Source', 'EUR'])\n",
    "extr_resp_df = extr_resp_df.merge(allpop_df, how='left', on=['Chromosome', 'Position'])\n",
    "extr_resp_df[['ESN', 'YRI', 'MSL', 'GWD', 'LWK']].describe()"
   ]
  },
  {
   "cell_type": "markdown",
   "metadata": {},
   "source": [
    "### Fisher's exact test"
   ]
  },
  {
   "cell_type": "code",
   "execution_count": 9,
   "metadata": {},
   "outputs": [
    {
     "data": {
      "text/plain": [
       "3288"
      ]
     },
     "execution_count": 9,
     "metadata": {},
     "output_type": "execute_result"
    }
   ],
   "source": [
    "# Number of Neanderthal SNPs in all genotyped Fairfax SNPs\n",
    "all_genotyped_snps = pd.read_csv(\"extreme_response/extreme_response.bim\", sep=\"\\t\", header=None)\n",
    "all_genotyped_snps.drop(2, axis=1, inplace=True)\n",
    "all_genotyped_snps = all_genotyped_snps.rename(columns={0: \"Chromosome\", 1: \"ID\", 3: \"Position\",\n",
    "                                                        4: \"Major\", 5: \"Minor\"})\n",
    "merged = comparison_df.merge(all_genotyped_snps, how=\"left\", on=[\"Chromosome\", \"Position\"])\n",
    "merged = merged.dropna()\n",
    "len(merged)"
   ]
  },
  {
   "cell_type": "code",
   "execution_count": 10,
   "metadata": {},
   "outputs": [
    {
     "data": {
      "text/plain": [
       "(1.1291256601266044, 0.2185106335371457)"
      ]
     },
     "execution_count": 10,
     "metadata": {},
     "output_type": "execute_result"
    }
   ],
   "source": [
    "stats.fisher_exact([[111, 18900], [3177, 610799]])"
   ]
  },
  {
   "cell_type": "markdown",
   "metadata": {},
   "source": [
    "### Bootstrap test"
   ]
  },
  {
   "cell_type": "code",
   "execution_count": 11,
   "metadata": {},
   "outputs": [],
   "source": [
    "# All genotyped SNPs from Fairfax\n",
    "exre = open('bootstrap/extreme_response.txt', 'r').read().splitlines()\n",
    "# Dannemann Neanderthal SNPs\n",
    "dann = open('bootstrap/dann_extres.txt', 'r').read().splitlines()\n",
    "# Simonti Neanderthal SNPs\n",
    "simo = open('bootstrap/simo_extres.txt', 'r').read().splitlines()"
   ]
  },
  {
   "cell_type": "code",
   "execution_count": 12,
   "metadata": {},
   "outputs": [],
   "source": [
    "# Fairfax eQTLs \n",
    "eSNP = []\n",
    "for chrom,pos in zip(extr_resp['Chromosome'], extr_resp['Position']):\n",
    "    eSNP.append(str(chrom) + ' ' + str(pos))"
   ]
  },
  {
   "cell_type": "code",
   "execution_count": 13,
   "metadata": {},
   "outputs": [
    {
     "data": {
      "text/plain": [
       "97"
      ]
     },
     "execution_count": 13,
     "metadata": {},
     "output_type": "execute_result"
    }
   ],
   "source": [
    "# Overlap between Dannemann Neanderthal SNPs and Fairfax eQTLs\n",
    "dann_exre = set(dann).intersection(eSNP)\n",
    "len(dann_exre)"
   ]
  },
  {
   "cell_type": "code",
   "execution_count": 14,
   "metadata": {},
   "outputs": [
    {
     "data": {
      "text/plain": [
       "<matplotlib.axes._subplots.AxesSubplot at 0x12e48fd68>"
      ]
     },
     "execution_count": 14,
     "metadata": {},
     "output_type": "execute_result"
    },
    {
     "data": {
      "image/png": "[encoded data removed]",
      "text/plain": [
       "<Figure size 432x288 with 1 Axes>"
      ]
     },
     "metadata": {
      "needs_background": "light"
     },
     "output_type": "display_data"
    }
   ],
   "source": [
    "# Dannemann bootstap \n",
    "dann_results = []\n",
    "for i in range(1000):\n",
    "    dann_results.append(len(set(sample(exre, len(dann))).intersection(eSNP)))\n",
    "sns.distplot(dann_results)"
   ]
  },
  {
   "cell_type": "code",
   "execution_count": 15,
   "metadata": {},
   "outputs": [
    {
     "data": {
      "text/plain": [
       "41"
      ]
     },
     "execution_count": 15,
     "metadata": {},
     "output_type": "execute_result"
    }
   ],
   "source": [
    "# Overlap between Simonti Neanderthal SNPs and Fairfax eQTLs\n",
    "simo_exre = set(simo).intersection(eSNP)\n",
    "len(simo_exre)"
   ]
  },
  {
   "cell_type": "code",
   "execution_count": 16,
   "metadata": {},
   "outputs": [
    {
     "data": {
      "text/plain": [
       "<matplotlib.axes._subplots.AxesSubplot at 0x12a327d30>"
      ]
     },
     "execution_count": 16,
     "metadata": {},
     "output_type": "execute_result"
    },
    {
     "data": {
      "image/png": "[encoded data removed]",
      "text/plain": [
       "<Figure size 432x288 with 1 Axes>"
      ]
     },
     "metadata": {
      "needs_background": "light"
     },
     "output_type": "display_data"
    }
   ],
   "source": [
    "# Simonti bootstrap\n",
    "simo_results = []\n",
    "for i in range(1000):\n",
    "    simo_results.append(len(set(sample(exre, len(simo))).intersection(eSNP)))\n",
    "sns.distplot(simo_results)"
   ]
  },
  {
   "cell_type": "code",
   "execution_count": 17,
   "metadata": {},
   "outputs": [
    {
     "data": {
      "text/plain": [
       "110"
      ]
     },
     "execution_count": 17,
     "metadata": {},
     "output_type": "execute_result"
    }
   ],
   "source": [
    "# Overlap between combined Neanderthal SNPs and Fairfax eQTLs\n",
    "combined = set(dann).union(simo)\n",
    "combined_exre = set(combined).intersection(eSNP)\n",
    "len(combined_exre)"
   ]
  },
  {
   "cell_type": "code",
   "execution_count": 18,
   "metadata": {},
   "outputs": [
    {
     "data": {
      "image/png": "[encoded data removed]",
      "text/plain": [
       "<Figure size 432x288 with 1 Axes>"
      ]
     },
     "metadata": {
      "needs_background": "light"
     },
     "output_type": "display_data"
    }
   ],
   "source": [
    "# Combined bootstrap\n",
    "combined_results = []\n",
    "for i in range(1000):\n",
    "    combined_results.append(len(set(sample(exre, len(combined))).intersection(eSNP)))\n",
    "sns.distplot(combined_results)\n",
    "plt.plot([110, 110], [0, 0.045], color='red', label='110')\n",
    "plt.show()"
   ]
  }
 ],
 "metadata": {
  "kernelspec": {
   "display_name": "Python 3",
   "language": "python",
   "name": "python3"
  },
  "language_info": {
   "codemirror_mode": {
    "name": "ipython",
    "version": 3
   },
   "file_extension": ".py",
   "mimetype": "text/x-python",
   "name": "python",
   "nbconvert_exporter": "python",
   "pygments_lexer": "ipython3",
   "version": "3.7.3"
  }
 },
 "nbformat": 4,
 "nbformat_minor": 2
}
