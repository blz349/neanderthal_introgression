{
 "cells": [
  {
   "cell_type": "markdown",
   "metadata": {},
   "source": [
    "# Explore overlap between Neanderthal-introgressed SNPs and Fairfax eQTLs\n",
    "This code explores if any Neanderthal-introgressed SNPs (present in Chen introgressed sequences) are present in the list of monocyte extreme response peak eQTLs identified by Fairfax et al. Fisher's exact test and bootstrap test were performed to detect enrichment.\n",
    "\n",
    "Neanderthal SNPs from:\n",
    "1. Dannemann M, Prufer K & Kelso J. Functional implications of Neandertal introgression in modern humans. *Genome Biol* 2017 **18**:61.\n",
    "2. Simonti CN *et al*. The phenotypic legacy of admixture between modern humans and Neandertals. *Science* 2016 **351**:737-41.\n",
    "\n",
    "Neanderthal-introgressed sequences by Chen *et al.* from:\n",
    "* Chen L *et al.* Identifying and interpreting apparent Neanderthal ancestry in African individuals. *Cell* 2020 **180**:677-687.  \n",
    "\n",
    "Monocyte extreme response peak eQTLs from:\n",
    "1. Fairfax BP *et al*. Innate immune activity conditions the effect of regulatory variants upon monocyte gene expression. *Science* 2014 **343**:1246949."
   ]
  },
  {
   "cell_type": "code",
   "execution_count": 1,
   "metadata": {},
   "outputs": [],
   "source": [
    "# Import libraries\n",
    "import pandas as pd\n",
    "import scipy.stats as stats\n",
    "from random import sample\n",
    "import matplotlib.pyplot as plt\n",
    "import seaborn as sns\n",
    "sns.set()\n",
    "%matplotlib inline"
   ]
  },
  {
   "cell_type": "markdown",
   "metadata": {},
   "source": [
    "### Create dataframe containing SNPs in both Neanderthal and Fairfax datasets"
   ]
  },
  {
   "cell_type": "code",
   "execution_count": 2,
   "metadata": {},
   "outputs": [
    {
     "data": {
      "text/html": [
       "<div>\n",
       "<style scoped>\n",
       "    .dataframe tbody tr th:only-of-type {\n",
       "        vertical-align: middle;\n",
       "    }\n",
       "\n",
       "    .dataframe tbody tr th {\n",
       "        vertical-align: top;\n",
       "    }\n",
       "\n",
       "    .dataframe thead th {\n",
       "        text-align: right;\n",
       "    }\n",
       "</style>\n",
       "<table border=\"1\" class=\"dataframe\">\n",
       "  <thead>\n",
       "    <tr style=\"text-align: right;\">\n",
       "      <th></th>\n",
       "      <th>Chromosome</th>\n",
       "      <th>Position</th>\n",
       "      <th>Source</th>\n",
       "    </tr>\n",
       "  </thead>\n",
       "  <tbody>\n",
       "    <tr>\n",
       "      <th>0</th>\n",
       "      <td>1</td>\n",
       "      <td>834360</td>\n",
       "      <td>simonti_only</td>\n",
       "    </tr>\n",
       "    <tr>\n",
       "      <th>1</th>\n",
       "      <td>1</td>\n",
       "      <td>838695</td>\n",
       "      <td>simonti_only</td>\n",
       "    </tr>\n",
       "    <tr>\n",
       "      <th>2</th>\n",
       "      <td>1</td>\n",
       "      <td>850373</td>\n",
       "      <td>simonti_only</td>\n",
       "    </tr>\n",
       "    <tr>\n",
       "      <th>3</th>\n",
       "      <td>1</td>\n",
       "      <td>854793</td>\n",
       "      <td>simonti_only</td>\n",
       "    </tr>\n",
       "    <tr>\n",
       "      <th>13</th>\n",
       "      <td>1</td>\n",
       "      <td>1964852</td>\n",
       "      <td>simonti_only</td>\n",
       "    </tr>\n",
       "    <tr>\n",
       "      <th>...</th>\n",
       "      <td>...</td>\n",
       "      <td>...</td>\n",
       "      <td>...</td>\n",
       "    </tr>\n",
       "    <tr>\n",
       "      <th>353190</th>\n",
       "      <td>22</td>\n",
       "      <td>51020584</td>\n",
       "      <td>dannemann_only</td>\n",
       "    </tr>\n",
       "    <tr>\n",
       "      <th>353191</th>\n",
       "      <td>22</td>\n",
       "      <td>51026458</td>\n",
       "      <td>dannemann_only</td>\n",
       "    </tr>\n",
       "    <tr>\n",
       "      <th>353192</th>\n",
       "      <td>22</td>\n",
       "      <td>51026842</td>\n",
       "      <td>dannemann_only</td>\n",
       "    </tr>\n",
       "    <tr>\n",
       "      <th>353193</th>\n",
       "      <td>22</td>\n",
       "      <td>51028027</td>\n",
       "      <td>dannemann_only</td>\n",
       "    </tr>\n",
       "    <tr>\n",
       "      <th>353194</th>\n",
       "      <td>22</td>\n",
       "      <td>51028231</td>\n",
       "      <td>dannemann_only</td>\n",
       "    </tr>\n",
       "  </tbody>\n",
       "</table>\n",
       "<p>306908 rows × 3 columns</p>\n",
       "</div>"
      ],
      "text/plain": [
       "        Chromosome  Position          Source\n",
       "0                1    834360    simonti_only\n",
       "1                1    838695    simonti_only\n",
       "2                1    850373    simonti_only\n",
       "3                1    854793    simonti_only\n",
       "13               1   1964852    simonti_only\n",
       "...            ...       ...             ...\n",
       "353190          22  51020584  dannemann_only\n",
       "353191          22  51026458  dannemann_only\n",
       "353192          22  51026842  dannemann_only\n",
       "353193          22  51028027  dannemann_only\n",
       "353194          22  51028231  dannemann_only\n",
       "\n",
       "[306908 rows x 3 columns]"
      ]
     },
     "execution_count": 2,
     "metadata": {},
     "output_type": "execute_result"
    }
   ],
   "source": [
    "# Load Chen Neanderthal SNPs\n",
    "chen = pd.read_excel('../chen/Additional File 1.xlsx', 'Sheet1', usecols=['Chromosome', 'Position', 'Source', 'Chen'])\n",
    "comparison_df = chen.loc[chen.Chen == 'Yes'].copy()\n",
    "comparison_df['Source'] = comparison_df['Source'].astype('string')\n",
    "comparison_df.drop('Chen', axis=1)"
   ]
  },
  {
   "cell_type": "code",
   "execution_count": 3,
   "metadata": {},
   "outputs": [],
   "source": [
    "# Load eQTL data\n",
    "extr_resp = pd.read_csv(\"tab2_a_cis_eSNPs.txt\", sep=\"\\t\", usecols=[\"SNP\", \"Gene\", \"SNP.Chrm\", \"SNP.pos\", \"Min.dataset\"])\n",
    "extr_resp = extr_resp.rename(columns={\"SNP.Chrm\": \"Chromosome\", \"SNP.pos\": \"Position\", \"SNP\": \"ID\"})\n",
    "extr_resp = extr_resp.groupby([\"Chromosome\", \"Position\", \"ID\"]).agg(','.join).reset_index()"
   ]
  },
  {
   "cell_type": "code",
   "execution_count": 4,
   "metadata": {},
   "outputs": [
    {
     "data": {
      "text/html": [
       "<div>\n",
       "<style scoped>\n",
       "    .dataframe tbody tr th:only-of-type {\n",
       "        vertical-align: middle;\n",
       "    }\n",
       "\n",
       "    .dataframe tbody tr th {\n",
       "        vertical-align: top;\n",
       "    }\n",
       "\n",
       "    .dataframe thead th {\n",
       "        text-align: right;\n",
       "    }\n",
       "</style>\n",
       "<table border=\"1\" class=\"dataframe\">\n",
       "  <thead>\n",
       "    <tr style=\"text-align: right;\">\n",
       "      <th></th>\n",
       "      <th>Chromosome</th>\n",
       "      <th>Position</th>\n",
       "      <th>Source</th>\n",
       "      <th>Chen</th>\n",
       "      <th>ID</th>\n",
       "      <th>Gene</th>\n",
       "      <th>Min.dataset</th>\n",
       "    </tr>\n",
       "  </thead>\n",
       "  <tbody>\n",
       "    <tr>\n",
       "      <th>3126</th>\n",
       "      <td>1</td>\n",
       "      <td>21636746</td>\n",
       "      <td>both</td>\n",
       "      <td>Yes</td>\n",
       "      <td>rs12756690</td>\n",
       "      <td>ECE1</td>\n",
       "      <td>LPS2</td>\n",
       "    </tr>\n",
       "    <tr>\n",
       "      <th>4595</th>\n",
       "      <td>1</td>\n",
       "      <td>37962756</td>\n",
       "      <td>dannemann_only</td>\n",
       "      <td>Yes</td>\n",
       "      <td>rs7544462</td>\n",
       "      <td>MEAF6</td>\n",
       "      <td>IFN</td>\n",
       "    </tr>\n",
       "    <tr>\n",
       "      <th>4824</th>\n",
       "      <td>1</td>\n",
       "      <td>40145850</td>\n",
       "      <td>both</td>\n",
       "      <td>Yes</td>\n",
       "      <td>rs17560858</td>\n",
       "      <td>LOC728448</td>\n",
       "      <td>IFN</td>\n",
       "    </tr>\n",
       "    <tr>\n",
       "      <th>5104</th>\n",
       "      <td>1</td>\n",
       "      <td>41309459</td>\n",
       "      <td>dannemann_only</td>\n",
       "      <td>Yes</td>\n",
       "      <td>rs12563360</td>\n",
       "      <td>ZNF684</td>\n",
       "      <td>LPS24</td>\n",
       "    </tr>\n",
       "    <tr>\n",
       "      <th>5151</th>\n",
       "      <td>1</td>\n",
       "      <td>41488722</td>\n",
       "      <td>both</td>\n",
       "      <td>Yes</td>\n",
       "      <td>rs11209368</td>\n",
       "      <td>CTPS</td>\n",
       "      <td>IFN</td>\n",
       "    </tr>\n",
       "  </tbody>\n",
       "</table>\n",
       "</div>"
      ],
      "text/plain": [
       "      Chromosome  Position          Source Chen          ID       Gene  \\\n",
       "3126           1  21636746            both  Yes  rs12756690       ECE1   \n",
       "4595           1  37962756  dannemann_only  Yes   rs7544462      MEAF6   \n",
       "4824           1  40145850            both  Yes  rs17560858  LOC728448   \n",
       "5104           1  41309459  dannemann_only  Yes  rs12563360     ZNF684   \n",
       "5151           1  41488722            both  Yes  rs11209368       CTPS   \n",
       "\n",
       "     Min.dataset  \n",
       "3126        LPS2  \n",
       "4595         IFN  \n",
       "4824         IFN  \n",
       "5104       LPS24  \n",
       "5151         IFN  "
      ]
     },
     "execution_count": 4,
     "metadata": {},
     "output_type": "execute_result"
    }
   ],
   "source": [
    "# Merge dataframes\n",
    "extr_resp_df = comparison_df.merge(extr_resp, how='left', on=['Chromosome', 'Position'])\n",
    "extr_resp_df = extr_resp_df.dropna()\n",
    "extr_resp_df.head()"
   ]
  },
  {
   "cell_type": "code",
   "execution_count": 5,
   "metadata": {},
   "outputs": [
    {
     "data": {
      "text/plain": [
       "100"
      ]
     },
     "execution_count": 5,
     "metadata": {},
     "output_type": "execute_result"
    }
   ],
   "source": [
    "# Number of overlapping SNPs\n",
    "len(extr_resp_df)"
   ]
  },
  {
   "cell_type": "code",
   "execution_count": 6,
   "metadata": {},
   "outputs": [
    {
     "data": {
      "text/plain": [
       "IFN      41\n",
       "LPS24    31\n",
       "Naive    25\n",
       "LPS2     25\n",
       "dtype: int64"
      ]
     },
     "execution_count": 6,
     "metadata": {},
     "output_type": "execute_result"
    }
   ],
   "source": [
    "# Expression context\n",
    "extr_resp_df['Min.dataset'].str.split(',', expand=True).stack().value_counts()"
   ]
  },
  {
   "cell_type": "code",
   "execution_count": 7,
   "metadata": {},
   "outputs": [
    {
     "data": {
      "text/plain": [
       "NFATC1      3\n",
       "OAS1        3\n",
       "PCBD1       2\n",
       "DCTD        2\n",
       "UPF2        2\n",
       "           ..\n",
       "CAST        1\n",
       "GJA3        1\n",
       "HS.40289    1\n",
       "CTHRC1      1\n",
       "RAB3IP      1\n",
       "Length: 107, dtype: int64"
      ]
     },
     "execution_count": 7,
     "metadata": {},
     "output_type": "execute_result"
    }
   ],
   "source": [
    "# Genes associated with overlapped eQTLs\n",
    "extr_resp_df['Gene'].str.split(',', expand=True).stack().value_counts()"
   ]
  },
  {
   "cell_type": "code",
   "execution_count": 8,
   "metadata": {},
   "outputs": [
    {
     "data": {
      "text/html": [
       "<div>\n",
       "<style scoped>\n",
       "    .dataframe tbody tr th:only-of-type {\n",
       "        vertical-align: middle;\n",
       "    }\n",
       "\n",
       "    .dataframe tbody tr th {\n",
       "        vertical-align: top;\n",
       "    }\n",
       "\n",
       "    .dataframe thead th {\n",
       "        text-align: right;\n",
       "    }\n",
       "</style>\n",
       "<table border=\"1\" class=\"dataframe\">\n",
       "  <thead>\n",
       "    <tr style=\"text-align: right;\">\n",
       "      <th></th>\n",
       "      <th>ESN</th>\n",
       "      <th>YRI</th>\n",
       "      <th>MSL</th>\n",
       "      <th>GWD</th>\n",
       "      <th>LWK</th>\n",
       "    </tr>\n",
       "  </thead>\n",
       "  <tbody>\n",
       "    <tr>\n",
       "      <th>count</th>\n",
       "      <td>99.000000</td>\n",
       "      <td>99.000000</td>\n",
       "      <td>99.000000</td>\n",
       "      <td>99.000000</td>\n",
       "      <td>99.000000</td>\n",
       "    </tr>\n",
       "    <tr>\n",
       "      <th>mean</th>\n",
       "      <td>0.001768</td>\n",
       "      <td>0.000747</td>\n",
       "      <td>0.001929</td>\n",
       "      <td>0.003364</td>\n",
       "      <td>0.004818</td>\n",
       "    </tr>\n",
       "    <tr>\n",
       "      <th>std</th>\n",
       "      <td>0.005947</td>\n",
       "      <td>0.004355</td>\n",
       "      <td>0.006214</td>\n",
       "      <td>0.007495</td>\n",
       "      <td>0.010251</td>\n",
       "    </tr>\n",
       "    <tr>\n",
       "      <th>min</th>\n",
       "      <td>0.000000</td>\n",
       "      <td>0.000000</td>\n",
       "      <td>0.000000</td>\n",
       "      <td>0.000000</td>\n",
       "      <td>0.000000</td>\n",
       "    </tr>\n",
       "    <tr>\n",
       "      <th>25%</th>\n",
       "      <td>0.000000</td>\n",
       "      <td>0.000000</td>\n",
       "      <td>0.000000</td>\n",
       "      <td>0.000000</td>\n",
       "      <td>0.000000</td>\n",
       "    </tr>\n",
       "    <tr>\n",
       "      <th>50%</th>\n",
       "      <td>0.000000</td>\n",
       "      <td>0.000000</td>\n",
       "      <td>0.000000</td>\n",
       "      <td>0.000000</td>\n",
       "      <td>0.000000</td>\n",
       "    </tr>\n",
       "    <tr>\n",
       "      <th>75%</th>\n",
       "      <td>0.000000</td>\n",
       "      <td>0.000000</td>\n",
       "      <td>0.000000</td>\n",
       "      <td>0.004000</td>\n",
       "      <td>0.005000</td>\n",
       "    </tr>\n",
       "    <tr>\n",
       "      <th>max</th>\n",
       "      <td>0.045000</td>\n",
       "      <td>0.032000</td>\n",
       "      <td>0.047000</td>\n",
       "      <td>0.044000</td>\n",
       "      <td>0.056000</td>\n",
       "    </tr>\n",
       "  </tbody>\n",
       "</table>\n",
       "</div>"
      ],
      "text/plain": [
       "             ESN        YRI        MSL        GWD        LWK\n",
       "count  99.000000  99.000000  99.000000  99.000000  99.000000\n",
       "mean    0.001768   0.000747   0.001929   0.003364   0.004818\n",
       "std     0.005947   0.004355   0.006214   0.007495   0.010251\n",
       "min     0.000000   0.000000   0.000000   0.000000   0.000000\n",
       "25%     0.000000   0.000000   0.000000   0.000000   0.000000\n",
       "50%     0.000000   0.000000   0.000000   0.000000   0.000000\n",
       "75%     0.000000   0.000000   0.000000   0.004000   0.005000\n",
       "max     0.045000   0.032000   0.047000   0.044000   0.056000"
      ]
     },
     "execution_count": 8,
     "metadata": {},
     "output_type": "execute_result"
    }
   ],
   "source": [
    "# African population MAFs\n",
    "allpop_df = pd.read_csv(\"../neanderthal/allpop_fixed.csv\")\n",
    "extr_resp_df = extr_resp_df.merge(allpop_df, how='left', on=['Chromosome', 'Position', 'ID', 'Source'])\n",
    "extr_resp_df[['ESN', 'YRI', 'MSL', 'GWD', 'LWK']].describe()"
   ]
  },
  {
   "cell_type": "markdown",
   "metadata": {},
   "source": [
    "---\n",
    "\n",
    "## Check for enrichment of Neanderthal SNPs in Fairfax eQTLs"
   ]
  },
  {
   "cell_type": "markdown",
   "metadata": {},
   "source": [
    "### Fisher's exact test"
   ]
  },
  {
   "cell_type": "code",
   "execution_count": 9,
   "metadata": {},
   "outputs": [
    {
     "data": {
      "text/plain": [
       "2836"
      ]
     },
     "execution_count": 9,
     "metadata": {},
     "output_type": "execute_result"
    }
   ],
   "source": [
    "# Number of Chen Neanderthal SNPs in all genotyped Fairfax SNPs\n",
    "all_genotyped_snps = pd.read_csv(\"extreme_response/extreme_response.bim\", sep=\"\\t\", header=None)\n",
    "all_genotyped_snps.drop(2, axis=1, inplace=True)\n",
    "all_genotyped_snps = all_genotyped_snps.rename(columns={0: \"Chromosome\", 1: \"ID\", 3: \"Position\",\n",
    "                                                        4: \"Major\", 5: \"Minor\"})\n",
    "merged = comparison_df.merge(all_genotyped_snps, how=\"left\", on=[\"Chromosome\", \"Position\"])\n",
    "merged = merged.dropna()\n",
    "len(merged)"
   ]
  },
  {
   "cell_type": "code",
   "execution_count": 10,
   "metadata": {},
   "outputs": [
    {
     "data": {
      "text/plain": [
       "(1.1448247423062972, 0.19176486125653208)"
      ]
     },
     "execution_count": 10,
     "metadata": {},
     "output_type": "execute_result"
    }
   ],
   "source": [
    "stats.fisher_exact([[100, 18911], [2736, 592338]])"
   ]
  },
  {
   "cell_type": "markdown",
   "metadata": {},
   "source": [
    "### Bootstrap test"
   ]
  },
  {
   "cell_type": "code",
   "execution_count": 11,
   "metadata": {},
   "outputs": [],
   "source": [
    "# All genotyped SNPs from Fairfax\n",
    "exre = open('bootstrap/extreme_response.txt', 'r').read().splitlines()"
   ]
  },
  {
   "cell_type": "code",
   "execution_count": 12,
   "metadata": {},
   "outputs": [],
   "source": [
    "#Chen Neanderthal SNPs\n",
    "nSNP = []\n",
    "for chrom, pos in zip(comparison_df['Chromosome'], comparison_df['Position']):\n",
    "    nSNP.append(str(chrom) + ' ' + str(pos))\n",
    "chen_exre = set(nSNP).intersection(exre)"
   ]
  },
  {
   "cell_type": "code",
   "execution_count": 13,
   "metadata": {},
   "outputs": [],
   "source": [
    "# Fairfax eQTLs \n",
    "eSNP = []\n",
    "for chrom,pos in zip(extr_resp['Chromosome'], extr_resp['Position']):\n",
    "    eSNP.append(str(chrom) + ' ' + str(pos))\n",
    "eSNP_exre = set(eSNP).intersection(exre)"
   ]
  },
  {
   "cell_type": "code",
   "execution_count": 14,
   "metadata": {},
   "outputs": [
    {
     "data": {
      "image/png": "[encoded data removed]",
      "text/plain": [
       "<Figure size 432x288 with 1 Axes>"
      ]
     },
     "metadata": {
      "needs_background": "light"
     },
     "output_type": "display_data"
    }
   ],
   "source": [
    "# Bootstrap\n",
    "results = []\n",
    "for i in range(1000):\n",
    "    results.append(len(set(sample(exre, len(chen_exre))).intersection(eSNP_exre)))\n",
    "sns.distplot(results)\n",
    "plt.plot([100, 100], [0, 0.045], color='red')\n",
    "plt.show()"
   ]
  },
  {
   "cell_type": "code",
   "execution_count": 15,
   "metadata": {},
   "outputs": [
    {
     "name": "stdout",
     "output_type": "stream",
     "text": [
      "26\n"
     ]
    }
   ],
   "source": [
    "count = 0\n",
    "for x in results:\n",
    "    if x > 100:\n",
    "        count += 1\n",
    "print(count)"
   ]
  },
  {
   "cell_type": "markdown",
   "metadata": {},
   "source": [
    "---\n",
    "\n",
    "## Check for enrichment of Neanderthal SNPs in IFN-specific vs LPS-specific eQTLs"
   ]
  },
  {
   "cell_type": "markdown",
   "metadata": {},
   "source": [
    "### Fisher's exact test"
   ]
  },
  {
   "cell_type": "code",
   "execution_count": 16,
   "metadata": {},
   "outputs": [
    {
     "name": "stdout",
     "output_type": "stream",
     "text": [
      "IFN: 5270, LPS: 8923\n"
     ]
    }
   ],
   "source": [
    "# Number of Fairfax eQTLs that are IFN-specific or LPS-specific\n",
    "IFN_count = 0\n",
    "LPS_count = 0\n",
    "eqtl_ifn = []\n",
    "eqtl = []\n",
    "for index, row in extr_resp.iterrows():\n",
    "    if 'IFN' in row['Min.dataset'] and 'LPS' not in row['Min.dataset']:\n",
    "        IFN_count += 1\n",
    "        eqtl_ifn.append(row['ID'])\n",
    "        eqtl.append(row['ID'])\n",
    "    elif 'IFN' not in row['Min.dataset'] and 'LPS' in row['Min.dataset']:\n",
    "        LPS_count += 1\n",
    "        eqtl.append(row['ID'])\n",
    "print('IFN: ' + str(IFN_count) + ', LPS: ' + str(LPS_count))"
   ]
  },
  {
   "cell_type": "code",
   "execution_count": 17,
   "metadata": {},
   "outputs": [
    {
     "name": "stdout",
     "output_type": "stream",
     "text": [
      "IFN: 32, LPS: 46\n"
     ]
    }
   ],
   "source": [
    "# Number of Neanderthal-introgressed, Fairfax eQTLs that are IFN-specific or LPS-specific\n",
    "IFN_count = 0\n",
    "LPS_count = 0\n",
    "nean_eqtl = []\n",
    "for index, row in extr_resp_df.iterrows():\n",
    "    if 'IFN' in row['Min.dataset'] and 'LPS' not in row['Min.dataset']:\n",
    "        IFN_count += 1\n",
    "        nean_eqtl.append(row['ID'])\n",
    "    elif 'IFN' not in row['Min.dataset'] and 'LPS' in row['Min.dataset']:\n",
    "        LPS_count += 1\n",
    "        nean_eqtl.append(row['ID'])\n",
    "print('IFN: ' + str(IFN_count) + ', LPS: ' + str(LPS_count))"
   ]
  },
  {
   "cell_type": "code",
   "execution_count": 18,
   "metadata": {},
   "outputs": [
    {
     "data": {
      "text/plain": [
       "(1.1789431744608796, 0.4824333566863386)"
      ]
     },
     "execution_count": 18,
     "metadata": {},
     "output_type": "execute_result"
    }
   ],
   "source": [
    "stats.fisher_exact([[32, 5238], [46, 8877]])"
   ]
  },
  {
   "cell_type": "markdown",
   "metadata": {},
   "source": [
    "### Bootstrap test"
   ]
  },
  {
   "cell_type": "code",
   "execution_count": 19,
   "metadata": {},
   "outputs": [
    {
     "data": {
      "image/png": "[encoded data removed]",
      "text/plain": [
       "<Figure size 432x288 with 1 Axes>"
      ]
     },
     "metadata": {
      "needs_background": "light"
     },
     "output_type": "display_data"
    }
   ],
   "source": [
    "bootstrap = []\n",
    "for i in range(1000):\n",
    "    bootstrap.append(len(set(sample(eqtl, len(nean_eqtl))).intersection(eqtl_ifn)))\n",
    "sns.distplot(bootstrap)\n",
    "plt.plot([32, 32], [0, 0.162], color='red', label='34')\n",
    "plt.show()"
   ]
  },
  {
   "cell_type": "code",
   "execution_count": 20,
   "metadata": {},
   "outputs": [
    {
     "name": "stdout",
     "output_type": "stream",
     "text": [
      "203\n"
     ]
    }
   ],
   "source": [
    "count = 0\n",
    "for x in bootstrap:\n",
    "    if x > 32:\n",
    "        count += 1\n",
    "print(count)"
   ]
  }
 ],
 "metadata": {
  "kernelspec": {
   "display_name": "Python 3",
   "language": "python",
   "name": "python3"
  },
  "language_info": {
   "codemirror_mode": {
    "name": "ipython",
    "version": 3
   },
   "file_extension": ".py",
   "mimetype": "text/x-python",
   "name": "python",
   "nbconvert_exporter": "python",
   "pygments_lexer": "ipython3",
   "version": "3.7.3"
  }
 },
 "nbformat": 4,
 "nbformat_minor": 2
}
